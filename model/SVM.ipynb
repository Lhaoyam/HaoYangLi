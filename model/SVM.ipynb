{
 "cells": [
  {
   "cell_type": "code",
   "execution_count": null,
   "metadata": {},
   "outputs": [],
   "source": [
    "# Current directory\n",
    "import os\n",
    "os.chdir('E:\\work\\mine')"
   ]
  },
  {
   "cell_type": "markdown",
   "metadata": {},
   "source": [
    "### 导入数据"
   ]
  },
  {
   "cell_type": "code",
   "execution_count": null,
   "metadata": {},
   "outputs": [],
   "source": [
    "import numpy as np\n",
    "import pandas as pd\n",
    "\n",
    "X_new=pd.read_csv(r\"extract\\All_feature\\features\\TPC.csv\",header=None)\n",
    "y_new= pd.read_csv(r'extract\\label.csv',header=None)\n",
    "\n",
    "# X_new= X_new[:,1:]\n",
    "print(X_new.shape)\n",
    "print(y_new.shape)\n",
    "X_new = np.array(X_new)\n",
    "y_new = np.array(y_new).ravel()"
   ]
  },
  {
   "cell_type": "markdown",
   "metadata": {},
   "source": [
    "### 数据标准化"
   ]
  },
  {
   "cell_type": "code",
   "execution_count": null,
   "metadata": {},
   "outputs": [],
   "source": [
    "from sklearn.preprocessing import StandardScaler\n",
    "\n",
    "# 使用 StandardScaler 进行标准化\n",
    "scaler = StandardScaler()\n",
    "X_new = scaler.fit_transform(X_new)"
   ]
  },
  {
   "cell_type": "markdown",
   "metadata": {},
   "source": [
    "### 寻找最佳参数"
   ]
  },
  {
   "cell_type": "code",
   "execution_count": null,
   "metadata": {},
   "outputs": [],
   "source": [
    "\n",
    "# dataset splitting\n",
    "from sklearn.model_selection import train_test_split\n",
    "X_train_whole, X_ind_test, y_train_whole, y_ind_test =  train_test_split( X_new, y_new, test_size=0.2, random_state=1111)\n",
    "\n",
    "print(X_train_whole.shape)\n",
    "print(X_ind_test.shape)"
   ]
  },
  {
   "cell_type": "markdown",
   "metadata": {},
   "source": [
    "### 参数寻优"
   ]
  },
  {
   "cell_type": "code",
   "execution_count": null,
   "metadata": {},
   "outputs": [],
   "source": [
    "from sklearn.svm import SVC\n",
    "from sklearn.model_selection import GridSearchCV\n",
    "from sklearn.model_selection import StratifiedKFold\n",
    "from sklearn.metrics import balanced_accuracy_score\n",
    "\n",
    "\n",
    "# 定义参数范围\n",
    "param_grid = {\n",
    "    'C': [2 ** exp for exp in range(-4, 5)],\n",
    "    'kernel': ['linear', 'poly', 'rbf', 'sigmoid'],\n",
    "    'degree': [1, 3, 5, 7, 9],\n",
    "    'tol': [1e-5]\n",
    "}\n",
    "\n",
    "# 创建SVC分类器对象\n",
    "svm_clf = SVC()\n",
    "\n",
    "# 创建网格搜索对象\n",
    "grid_search = GridSearchCV(estimator=svm_clf, param_grid=param_grid, cv=StratifiedKFold(n_splits=10), scoring='balanced_accuracy')\n",
    "\n",
    "# 进行网格搜索\n",
    "grid_search.fit(X_train_whole, y_train_whole)\n",
    "\n",
    "# 输出最佳参数组合\n",
    "print(\"Best Parameters: \", grid_search.best_params_)\n",
    "\n",
    "# 输出最佳参数组合下的平均准确率和方差\n",
    "print(\"Best Balanced Accuracy:\", round(grid_search.best_score_, 3))\n"
   ]
  },
  {
   "cell_type": "markdown",
   "metadata": {},
   "source": [
    "### 测试"
   ]
  },
  {
   "cell_type": "markdown",
   "metadata": {},
   "source": [
    "### 10折交叉验证"
   ]
  },
  {
   "cell_type": "code",
   "execution_count": null,
   "metadata": {},
   "outputs": [],
   "source": [
    "# 10折交叉验证测试\n",
    "from sklearn.svm import SVC\n",
    "from sklearn.model_selection import StratifiedKFold\n",
    "from sklearn.metrics import  confusion_matrix, roc_auc_score\n",
    "import numpy as np\n",
    "import pandas as pd\n",
    "X_train_whole, X_ind_test, y_train_whole, y_ind_test =  train_test_split( X_new, y_new, test_size=0.2, random_state=1111)\n",
    "\n",
    "\n",
    "BACC_collection = []\n",
    "ACC_collection = []\n",
    "Sn_collection = []\n",
    "Sp_collection = []\n",
    "MCC_collection = []\n",
    "AUC_collection = []\n",
    "\n",
    "# Initialize lists to store predictions and true values for each fold\n",
    "y_true_all = []\n",
    "y_pred_all = []\n",
    "y_pred_proba_all = []\n",
    "\n",
    "mean_recall = np.linspace(0, 1, 100)\n",
    "all_precision = []\n",
    "base_fpr = np.linspace(0, 1, 100)\n",
    "mean_tpr = 0.0\n",
    "interp_tpr_collection = []\n",
    "\n",
    "\n",
    "def categorical_probas_to_classes(p):\n",
    "    return np.argmax(p, axis=1)\n",
    "\n",
    "clf = SVC(C = 1, degree = 3, kernel = 'poly', tol=1e-05, probability=True) \n",
    "skf = StratifiedKFold(n_splits=10)\n",
    "for train, test in skf.split(X_train_whole, y_train_whole):\n",
    "\n",
    "\n",
    "    X_train, X_valid, y_train, y_valid = X_train_whole[train], X_train_whole[test], y_train_whole[train], y_train_whole[test]\n",
    "    clf.fit(X_train, y_train)\n",
    "\n",
    "    y_pred_proba = clf.predict_proba(X_valid) \n",
    "    y_valid_pred = categorical_probas_to_classes(y_pred_proba)\n",
    "\n",
    "\n",
    "    y_true_all.extend(y_valid.ravel().astype(int))\n",
    "    y_pred_all.extend(y_valid_pred.astype(int))\n",
    "    y_pred_proba_all.extend(y_pred_proba[:,1])\n",
    "\n",
    "    TP, FP, FN, TN = confusion_matrix(y_valid, y_valid_pred).ravel()\n",
    "    Sn_collection.append(TP / (TP + FN))\n",
    "    Sp_collection.append(TN / (TN + FP))\n",
    "    MCC = (TP*TN-FP*FN)/np.sqrt((TP + FP) * (TP + FN) * (TN + FP) * (TN + FN))\n",
    "    MCC_collection.append(MCC)\n",
    "    ACC_collection.append((TP + TN) / (TP + TN + FP + FN))\n",
    "    BACC_collection.append(0.5 * (TP / (TP + FN)) + 0.5 * (TN / (TN + FP)))\n",
    "    auc = roc_auc_score(y_valid, y_pred_proba[:, 1])\n",
    "    AUC_collection.append(auc)\n",
    "\n",
    "results_df = pd.DataFrame({\n",
    "    'Predicted_Proba': np.round(y_pred_proba_all, 8),  \n",
    "    'True_Label': y_true_all,\n",
    "    'Predicted_Label': y_pred_all\n",
    "})\n",
    "\n",
    "# Save the results to a CSV file\n",
    "# results_df.to_csv(r'Result\\SVM\\10折/SVM_Group4.csv', index=False)\n",
    "    \n",
    "# 输出结果\n",
    "print(round(np.mean(ACC_collection),3), '±', round(np.std(ACC_collection),3))\n",
    "print(round(np.mean(Sn_collection),3), '±', round(np.std(Sn_collection),3))\n",
    "print(round(np.mean(Sp_collection),3), '±', round(np.std(Sp_collection),3))\n",
    "print(round(np.mean(MCC_collection),3), '±', round(np.std(MCC_collection),3))\n",
    "print(round(np.mean(AUC_collection),3), '±', round(np.std(AUC_collection),3))\n"
   ]
  },
  {
   "cell_type": "markdown",
   "metadata": {},
   "source": [
    "### 独立测试"
   ]
  },
  {
   "cell_type": "code",
   "execution_count": null,
   "metadata": {},
   "outputs": [],
   "source": [
    "# Independence test\n",
    "from sklearn.svm import SVC\n",
    "from sklearn.model_selection import train_test_split\n",
    "import statistics\n",
    "from sklearn.metrics import confusion_matrix\n",
    "import math\n",
    "from sklearn.metrics import roc_auc_score\n",
    "\n",
    "# result collection list\n",
    "BACC_collecton = []\n",
    "ACC_collection = []\n",
    "Sn_collecton = []\n",
    "Sp_collecton = []\n",
    "MCC_collecton = []\n",
    "AUC_collecton = []\n",
    "AP=[]\n",
    "mean_recall = np.linspace(0, 1, 100)\n",
    "all_precision = []\n",
    "base_fpr = np.linspace(0, 1, 100)\n",
    "mean_tpr = 0.0\n",
    "interp_tpr_collection = []\n",
    "\n",
    "def categorical_probas_to_classes(p):\n",
    "    return np.argmax(p, axis=1)\n",
    "\n",
    "for i in range(10):\n",
    "    \n",
    "    X_train_whole, X_ind_test, y_train_whole, y_ind_test = train_test_split(X_new, y_new, test_size=0.2, random_state=i)\n",
    "    clf = SVC(C = 4, degree = 1, kernel = 'rbf', tol=1e-05, probability=True)\n",
    "    clf.fit(X_train_whole, y_train_whole)   \n",
    "    y_pred_score = clf.predict_proba(X_ind_test)\n",
    "    y_pred = categorical_probas_to_classes(y_pred_score)     \n",
    "    y_true = y_ind_test                \n",
    "    TP, FP, FN, TN = confusion_matrix(y_true, y_pred).ravel() \n",
    "    Sn_collecton.append(TP/(TP+FN))\n",
    "    Sp_collecton.append(TN/(TN+FP))\n",
    "    ACC_collection.append((TP+TN)/(TP+TN+FP+FN))\n",
    "    MCC = (TP*TN-FP*FN)/math.pow(((TP+FP)*(TP+FN)*(TN+FP)*(TN+FN)),0.5)\n",
    "    MCC_collecton.append(MCC)\n",
    "    BACC_collecton.append(0.5*TP/(TP+FN)+0.5*TN/(TN+FP))\n",
    "    auc = roc_auc_score(y_true, y_pred_score[:, 1])\n",
    "    AUC_collecton.append(auc)\n",
    "  \n",
    "    \n",
    "print(round(statistics.mean(ACC_collection),3),'±',round(statistics.stdev(ACC_collection),3))\n",
    "print(round(statistics.mean(Sn_collecton),3),'±',round(statistics.stdev(Sn_collecton),3))\n",
    "print(round(statistics.mean(Sp_collecton),3),'±',round(statistics.stdev(Sp_collecton),3))\n",
    "print(round(statistics.mean(MCC_collecton),3),'±',round(statistics.stdev(MCC_collecton),3))\n",
    "print(round(statistics.mean(AUC_collecton),3),'±',round(statistics.stdev(AUC_collecton),3))\n",
    "\n"
   ]
  }
 ],
 "metadata": {
  "kernelspec": {
   "display_name": "pytorch",
   "language": "python",
   "name": "python3"
  },
  "language_info": {
   "codemirror_mode": {
    "name": "ipython",
    "version": 3
   },
   "file_extension": ".py",
   "mimetype": "text/x-python",
   "name": "python",
   "nbconvert_exporter": "python",
   "pygments_lexer": "ipython3",
   "version": "3.9.19"
  }
 },
 "nbformat": 4,
 "nbformat_minor": 2
}
